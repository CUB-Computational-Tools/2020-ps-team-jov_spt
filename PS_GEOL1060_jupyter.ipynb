{
 "cells": [
  {
   "cell_type": "markdown",
   "metadata": {},
   "source": [
    "<div style=\"background: #efffed;\n",
    "            border: 1px solid grey;\n",
    "            margin: 8px 0 8px 0;\n",
    "            text-align: center;\n",
    "            padding: 8px; \">\n",
    "    <i class=\"fa-play fa\" \n",
    "       style=\"font-size: 40px;\n",
    "              line-height: 40px;\n",
    "              margin: 8px;\n",
    "              color: #444;\">\n",
    "    </i>\n",
    "    <center>\n",
    "    Click into a code cell (the gray blocks below) to select or edit it.<br/>\n",
    "    To run a selected code cell, hit <pre style=\"background: #efffed\">Shift + Enter</pre>\n",
    "    Make sure that each code cell runs successfully before you move on to the next one.\n",
    "    </center>\n",
    "</div>"
   ]
  },
  {
   "cell_type": "markdown",
   "metadata": {},
   "source": [
    "\n",
    "# ***Ocean Acidification***\n"
   ]
  },
  {
   "cell_type": "markdown",
   "metadata": {},
   "source": [
    "## Introduction"
   ]
  },
  {
   "cell_type": "markdown",
   "metadata": {},
   "source": [
    "Ocean acidification is one of the many impacts of climate change and increased atmospheric carbon dioxide ($CO_2$) concentration, and many modern studies have focused on changes in temperature or $CO_2$ on Earth over the last hundreds of years. However, scientists can also look to geologic records millions of years ago as case studiesy to understand what happened to ecosystems in the past that were also subject to large increases in atmospheric $CO_2$ concnetration and temperature. In this activity, we'll look at data sets from a time known as the Paleocene-Eocene Thermal Maximum (PETM) and compare those data sets to modern data to see how changes in temperature and $CO_2$ compare between the past and present."
   ]
  },
  {
   "cell_type": "markdown",
   "metadata": {},
   "source": [
    "In this activity you'll also use and manipulate **R** computer programming code in a **Jupyter Notebook** to load data sets and make plots. A **Jupyter Notebook** is a document that contains formatted text intertwined with chunks of code, and you are using one right now! Double click this text cell of this Jupyter Notebook and it'll show the [Markdown Syntax](https://www.markdownguide.org/getting-started/) of that text. I suspect you double clicked and now everything is looking different. To have everything looking *in the original finished format* you initially saw it in, run this cell using the Run gray play-button in the top-left area of this notebook.\n",
    "\n",
    "To go through this activity, you’ll have to run each block of text or code (go back to the gray Run play-button in the top left corner). As long as you are ‘clicked’ into a certain block, click Run and that chunk will run! You’ll do the same when you edit chunks of code - just click Run after you are done and it will show your edited version.\n",
    "\n",
    "All code will include comments (text that follows the # symbol) that explains what each line of code **says** and what each line of code **does**. Computer programming can be somewhat intimidating, but this activity will walk through all parts of the code along the way. \n",
    "\n",
    "<p>&nbsp;</p>\n",
    "\n",
    "## Learning Goals\n",
    "\n",
    "By the end of this activity, you will be able to:\n",
    "1. Understand the process of ocean acidification and how it's related to changes in atmospheric $CO_2$ concentration and temperature. \n",
    "2. Interpret plots from PETM and modern data for ocean pH, ocean temperature and/or atmospheric $CO_2$.\n",
    "3. Edit code to upload a data file into R and change certain characteristics of data plots.\n",
    "4. Gain a sense for the utility in using computer programming to investigate data sets and scientific problems.\n"
   ]
  },
  {
   "cell_type": "markdown",
   "metadata": {},
   "source": [
    "<p>&nbsp;</p>\n",
    "\n",
    "## Background and Defining Terms: \n",
    "\n",
    "### Ocean Acidification and Atmospheric Carbon Dioxide\n",
    "\n",
    "**Ocean acidification** refers to the process by which *increasing levels of carbon dioxide* ($CO_2$) correlate to a *decrease in the pH of the ocean*. The Earth has a natural process by which it sequesters carbon dioxide (in rocks, for example) and releases carbon dioxide (through processes like decomposition). However, anthropogenic (\"human-caused\") behavior has resulted in an unnatural increase in the amount of carbon dioxide in the atmosphere, which also leads to higher levels of $CO_2$ in the oceans. \n",
    "\n",
    "As the supplemental readings explained, when levels of carbon dioxide increase in the atmosphere, the chemistry of the oceans change. That atmospheric carbon dioxide mixes with sea water to create carbonic acid. Increased  carbonic acid in the ocean makes the ocean more acidic and contributes to breaking down corals and organisms' carbonate shells through a chain of chemical reactions. As more and more $CO_2$ is added into the atmopshere, this process continues to happen and more and more organisms and ecosystems can be negatively affected. \n",
    "\n",
    "In modern times, the increase in atmospheric carbon dioxide concentration has come from the burning of fossil fuels (a lot of buried carbon), but there have been other times in the geologic past when large amounts of carbon dioxide were released into the atmosphere (and not by humans!).\n",
    "\n",
    "### Paleocene-Eocene Thermal Maximum\n",
    "The **Paleocene-Eocene Thermal Maximum** (PETM) is one of those times. The PETM happened around 55 million years ago (about 10 million years after a big meteorite impact made the dinosaurs go extinct). The PETM was first recognized after deep ocean bedrock cores recorded a big change in the carbon isotope values around this time (known as a **C**arbon **I**sotope **E**xcursion or **CIE**) that are associated with the earth warming around 4-5°C (for perspective, modern warming since the industrial revolution has been around 1°C). Over time, scientists have concluded that this time period (over a few thousand years) experienced high levels of atmospheric carbon dioxide and increased temperatures in the ocean and on land (McInerney & Wing, 2011). Moreover, the PETM triggered mass extinctions of deep-sea organisms, showing that these drastic changes in carbon dioxide, pH, and temperatures could also impact the biosphere.\n",
    "\n",
    "### Modern-Day Carbon Dioxide, Sea Surface Temperature (SST), and Ocean pH\n",
    "We're going to first investigate data sets that look at the conncentration of carbon dioxide measured in the atmosphere (in parts per million) from the [Global Monitoring Laboratory in Mauna Loa](https://www.esrl.noaa.gov/gmd/ccgg/trends/monthly.html) over time. We'll also be looking at modern data sets for [sea surface temperature (SST) from NOAA](https://www.ncdc.noaa.gov/data-access/marineocean-data/extended-reconstructed-sea-surface-temperature-ersst) and ocean acidity at the Pacific from a [paper](https://www.pnas.org/content/106/30/12235) in the Proceedings of the National Academy of Sciences journal.\n",
    "\n",
    "<p>&nbsp;</p>\n",
    "\n",
    "\n",
    "## Using Data Sets \n",
    "\n",
    "> We'll first load some **R packages** that will allow us to make our code do things like pull in data sets from a folder or make a plot. *R packages* are collections of functions and data sets developed by the scientific/programming community. They improve the existing base fuctionalities of R and expand what you can achieve with your code. \n",
    "\n",
    "But what is a function?\n",
    "\n",
    "> A **function** is a conjunction of code that achieves a specific task. This code can be 'called' using the function's given name. What the function ultimately does is take in data and return a result based on that function's 'inner' code. "
   ]
  },
  {
   "cell_type": "code",
   "execution_count": null,
   "metadata": {},
   "outputs": [],
   "source": [
    "# The library() function loads each package. You need to do this so R can find the functions you need from a certain package. \n",
    "# Once the package loads all the different functions associated with it are usable. \n",
    "library(tidyverse) #these are all different libraries that help the code do different things\n",
    "library(readxl)#The library() part tells R that this is a package it should load and \n",
    "#the text within the () is the name of the specific package (in this case \"readxl\" which helps us read Excel files into R).\n",
    "library(cowplot)\n",
    "library(ggplot2)#this library, for example, helps us make plots of our data. \n",
    "\n",
    "#notice that because there is a \"#\" symbol before all of the note text above, it's all just comments that don't affect the code!\n"
   ]
  },
  {
   "cell_type": "markdown",
   "metadata": {},
   "source": [
    "<p>&nbsp;</p>\n",
    "\n",
    "\n",
    "### Modern $CO_2$ Concentration\n",
    "\n",
    "At Mauna Loa, NOAA has data looking at the monthly average of the parts per million concentration of $CO_2$ since the 1980s. We will plot this data to see what the trends for $CO_2$ have been in the past 40 years.\n",
    "\n",
    "First, let's import the Mauna Loa data:"
   ]
  },
  {
   "cell_type": "code",
   "execution_count": null,
   "metadata": {},
   "outputs": [],
   "source": [
    "MaunaLoa_data <-  read_excel(\"data/co2_monthly_average.xlsx\") #Here we are reading an excel file that contains our monthly average CO2 data (in ppm) from Mauna Loa. \n",
    "#Since our data is in a table, the file will import itself as a data frame called MaunaLoa_data (this is a variable).\n",
    "#A data frame in R is a table or a two-dimensional array-like structure in which each column contains values of one variable and each row contains one set of values from each column.\n",
    "#The text within the read_excel() function is specifying the location and the name of the file we want to read.\n",
    "#In this case, our excel file is located in the data folder (you'll see it in the left part of your screen). \n",
    "\n",
    "MaunaLoa_data #this will print out our data frame for us to see and make sure it looks alright. You can see columns year, month, decimal, average, trend. \n",
    "#year tells us the year we are in \n",
    "#month tells the month of a particular year \n",
    "#decimal is the year with a decimal place that represents the month of that year in which you are\n",
    "#average shows the monthly mean CO2 ppm values, centered on the middle of each month \n",
    "#trend represents the same as average, after correction for the average seasonal cycle\n"
   ]
  },
  {
   "cell_type": "markdown",
   "metadata": {},
   "source": [
    "Next, let's have you assign a variable in a similar fashion in which we added the Excel data to `MaunaLoa_data`. In this next code chunk, write <span style='background:LightCyan'> \"Parts per million (ppm)\"</span> after the `<-` arrow besides our `ML_y_title` variable. What we are doing here is setting up the *y axis title* for our plot of the Mauna Loa data."
   ]
  },
  {
   "cell_type": "code",
   "execution_count": null,
   "metadata": {},
   "outputs": [],
   "source": [
    "ML_y_title <- \"Parts per million (ppm)\""
   ]
  },
  {
   "cell_type": "markdown",
   "metadata": {},
   "source": [
    "Congrats! You've assigned a variable. Now let's put it to use in our Mauna Loa plot.\n",
    "\n",
    "We will use the decimal column for our x axis and the average column for our y. We are using decimal instead of the year or month column so we can see the progression of concentration data through each yea rand the next. \n",
    "\n",
    "***What do you think would happen if we use the year or month columns for our plot?***\n",
    "\n",
    "Answer in the cell below (between the > after LightSkyBlue and the < before /span; double click the cell to edit it):"
   ]
  },
  {
   "cell_type": "markdown",
   "metadata": {},
   "source": [
    "<span style='background:LightSkyBlue'> \n",
    "    Write your answer here.\n",
    "    \n",
    "</span>\n",
    "\n",
    "*Note*: The code that's already in the cell highlights your answer in blue!"
   ]
  },
  {
   "cell_type": "markdown",
   "metadata": {},
   "source": [
    "<p>&nbsp;</p>\n",
    "This is our plot for $CO_2$ at Mauna Loa:"
   ]
  },
  {
   "cell_type": "code",
   "execution_count": null,
   "metadata": {},
   "outputs": [],
   "source": [
    "ML_CO2vsYear <- #We create a new plot stored in \"ML_CO2vsYear\"\n",
    "ggplot(MaunaLoa_data, aes(x = decimal, y = average)) + #we call the function ggplot to input our data set and assign x and y variables\n",
    "geom_line(size = 0.5, color = 'black')+ #We define a black line to connect our data points\n",
    "labs(y = ML_y_title, x = \"Year\", title = bquote(\"Atmospheric\" ~ CO[2] ~ \"concentration at Mauna Loa Observatory\")) + #We give our graph labels and a title\n",
    "theme_bw() #We make the background grid theme/color black and white \n",
    "\n",
    "options(repr.plot.width = 9, repr.plot.height = 9) #Fixes the plot height/width to a certain value\n",
    "ML_CO2vsYear #prints out our plot"
   ]
  },
  {
   "cell_type": "markdown",
   "metadata": {},
   "source": [
    "We can see a general upwards trend in $CO_2$ concentration. This is due to anthropogenic influence in emissions. Since there is so much fossil fuel consumption, $CO_2$ has increased steadily through the years. In this [link](https://www.esrl.noaa.gov/gmd/ccgg/trends/ff.html) you will see an animation showing the contributions of fossil fuel consumption to the concentration of atmospheric $CO_2$.\n",
    "\n",
    "I imagine you have already noticed that the monthly average concentrations of our plot fluctuate up and down.\n",
    "\n",
    "***What do you think this causes this?***\n",
    "\n",
    "Answer in the cell below (like before):"
   ]
  },
  {
   "cell_type": "markdown",
   "metadata": {},
   "source": [
    "<span style='background:LightSkyBlue'> \n",
    "    Write your answer here.\n",
    "    \n",
    "</span>\n",
    "<p>&nbsp;</p>"
   ]
  },
  {
   "cell_type": "markdown",
   "metadata": {},
   "source": [
    "<p>&nbsp;</p>\n",
    "If we plot the trend column of the Mauna Loa dataset we get this graph:"
   ]
  },
  {
   "cell_type": "code",
   "execution_count": null,
   "metadata": {},
   "outputs": [],
   "source": [
    "ML_CO2vsYear_wTrend <- #We create a new plot stored in \"ML_CO2vsYear_wTrend\"\n",
    "ggplot() + #we call the function ggplot to input our data set and assign x and y variables\n",
    "geom_line(data = MaunaLoa_data, aes(x = decimal, y = average), size = 0.5, color = 'black')+ #We define a black line to connect our data points \n",
    "geom_line(data = MaunaLoa_data, aes(x = decimal, y = trend), size = 0.5, color = 'red')+ #We add our trend column data in red \n",
    "labs(y = ML_y_title, x = \"Year\", title = bquote(\"Atmospheric\" ~ CO[2] ~ \" concentration at Mauna Loa Observatory\")) + #We give our graph labels and a title\n",
    "theme_bw() #We make the background grid theme/color black and white \n",
    "\n",
    "options(repr.plot.width = 9, repr.plot.height = 9) #Fixes the plot height/width to a certain value\n",
    "ML_CO2vsYear_wTrend #prints out our plot"
   ]
  },
  {
   "cell_type": "markdown",
   "metadata": {},
   "source": [
    "The trend column from our `MaunaLoa_data` (seen here as the red line) shows the monthly parts per million average for $CO_2$, but corrected for the seasonal cycles (ups and downs) you noticed before. \n",
    "\n",
    "Now try to change the trend line color from red to blue. You can do this by editing the code that produces the plot above. In the plot cell we have specified which line of code pertains the trend line, and you'll see that there is a part that says `color = 'red'`. There you will change `'red'` to `'blue'`.  \n",
    "<p>&nbsp;</p>"
   ]
  },
  {
   "cell_type": "markdown",
   "metadata": {},
   "source": [
    "### Modern Sea Surface Temperature\n",
    "\n",
    "Now let's look at what has been happening to the sea surface temperature given the increasing $CO_2$ concentrations.\n",
    "\n",
    "Remember that $CO_2$ is a greenhouse gas, which can trap the heat originated from the Earth’s surface.  If there is more $CO_2$ then more heat gets trapped, and if there is less $CO_2$ then less heat gets trapped.  This affects the average temperature of the planet, including sea surface temperature (SST).\n",
    "\n",
    "Let's load our NOAA SST data and plot it."
   ]
  },
  {
   "cell_type": "code",
   "execution_count": null,
   "metadata": {},
   "outputs": [],
   "source": [
    "# Loading the SST data \n",
    "ModernSST_data <- read_excel(\"data/EPA_SST.xlsx\") \n",
    "names(ModernSST_data) <- c(\"year\", \"anomaly\", \"lower_95\", \"higher_95\")\n",
    "\n",
    "fahr_to_cel <- function(temp) {\n",
    "  cel <- (temp - 32) * (5 / 9)\n",
    "  return(cel)\n",
    "}\n",
    "\n",
    "ModernSST_data_far <- ModernSST_data #This dataset has the SST in Fahrenheit for optional plotting\n",
    "\n",
    "ModernSST_data_far$anomaly <- fahr_to_cel(ModernSST_data$anomaly)\n",
    "ModernSST_data_far$lower_95 <- fahr_to_cel(ModernSST_data$lower_95)\n",
    "ModernSST_data_far$higher_95 <- fahr_to_cel(ModernSST_data$higher_95)\n",
    "\n",
    "ModernSST_data"
   ]
  },
  {
   "cell_type": "code",
   "execution_count": null,
   "metadata": {},
   "outputs": [],
   "source": [
    "# Making the SST vs Time plot\n",
    "SSTvsYear <-\n",
    "ggplot(ModernSST_data, aes(x = year, y = anomaly)) + \n",
    "geom_line(size = 0.5, color = 'black') + \n",
    "geom_ribbon(aes(ymin = lower_95, ymax = higher_95), linetype = 2, alpha = 0.3) +\n",
    "geom_hline(yintercept = 0, linetype = \"dashed\", color = \"maroon\") +\n",
    "geom_text(aes(1900,0,label = \"1971-2000 Average\", vjust = -1)) +\n",
    "labs(y = \"Temperature Anomaly (°F) \", x = \"Year\", title = \"Average Global Sea Surface Temperature, 1880–2015\") + \n",
    "theme_bw()  \n",
    "\n",
    "options(repr.plot.width = 12, repr.plot.height = 9)\n",
    "SSTvsYear #prints out our plot"
   ]
  },
  {
   "cell_type": "markdown",
   "metadata": {},
   "source": [
    "In the graph above we have plotted the average surface temperature change (respect to a 1971 to 2000 average as baseline - shown as a dashed line) of the world’s oceans since 1880. Choosing a different baseline period would not change the shape of the data over time. The gray shade shows the uncertainty of the data, based on the methods used to get the average temperatures and the amount of measurements.\n",
    "<p>&nbsp;</p>\n",
    "\n",
    "### Comparing the trends in $CO_2$ and SST\n",
    "\n",
    "Now let's compare the trends our $CO_2$ and SST plots. "
   ]
  },
  {
   "cell_type": "code",
   "execution_count": null,
   "metadata": {},
   "outputs": [],
   "source": [
    "new_ModernSST_data <- subset(ModernSST_data, year >= 1980)\n",
    "\n",
    "newSSTvsYear <-\n",
    "ggplot(new_ModernSST_data, aes(x = year, y = anomaly)) + \n",
    "geom_line(size = 0.5, color = 'black') + \n",
    "geom_ribbon(aes(ymin = lower_95, ymax = higher_95), linetype = 2, alpha = 0.3) +\n",
    "geom_hline(yintercept = -0, linetype = \"dashed\", color = \"maroon\") +\n",
    "labs(y = \"Temperature Anomaly (°F) \", x = \"Year\", title = \"Average Global SST\") + \n",
    "theme_bw() \n",
    "\n",
    "ML_CO2vsYear_wTrend <- ML_CO2vsYear_wTrend + labs(title = bquote(\"Atmospheric\" ~ CO[2] ~ \"Concentration\")) "
   ]
  },
  {
   "cell_type": "code",
   "execution_count": null,
   "metadata": {},
   "outputs": [],
   "source": [
    "options(repr.plot.width = 18, repr.plot.height = 8)\n",
    "modern_sideBYside <- suppressWarnings(plot_grid(ML_CO2vsYear_wTrend, newSSTvsYear))\n",
    "modern_sideBYside\n"
   ]
  },
  {
   "cell_type": "markdown",
   "metadata": {},
   "source": [
    "***Do you see a relationship between $CO_2$ and SST? If so, why?***\n",
    "\n"
   ]
  },
  {
   "cell_type": "markdown",
   "metadata": {},
   "source": [
    "<span style='background:LightSkyBlue'> \n",
    "    Write your answer here.\n",
    "    \n",
    "</span>\n",
    "<p>&nbsp;</p>"
   ]
  },
  {
   "cell_type": "markdown",
   "metadata": {},
   "source": [
    "### Changes in Ocean pH\n",
    "\n",
    "Now let's load the data for [ocean acidity at the Pacific from PNAS](https://www.pnas.org/content/106/30/12235). This data are from a station based in Hawaii. You can load the data by writing `\"data/epa_ph.xlsx\"` within the parentheses of the `read_excel` function. Try it yourself!"
   ]
  },
  {
   "cell_type": "code",
   "execution_count": null,
   "metadata": {},
   "outputs": [],
   "source": [
    "pacific_pH <- read_excel(\"data/epa_ph.xlsx\") "
   ]
  },
  {
   "cell_type": "markdown",
   "metadata": {},
   "source": [
    "After loading the data we can plot it to see pH over the years:"
   ]
  },
  {
   "cell_type": "code",
   "execution_count": null,
   "metadata": {},
   "outputs": [],
   "source": [
    "# Making the pH vs. time plot \n",
    "\n",
    "pHvsYear <- #We create a new plot stored in \"pHvsYear\"\n",
    "ggplot() + #we call the function ggplot to input our data set and assign x and y variables\n",
    "geom_line(data = pacific_pH, aes(x = Hawaii_Year, y = Hawaii_pH), size = 0.5, color = 'black') + #We define a black line to connect our data points \n",
    "labs(y = \"pH\", x = \"Year\", title = \"Change in ocean pH over time\") + #We give our graph labels and a title\n",
    "theme_bw() #We make the background grid theme/color black and white \n",
    "\n",
    "options(repr.plot.width = 9, repr.plot.height = 9)\n",
    "pHvsYear #printing the pH plot"
   ]
  },
  {
   "cell_type": "markdown",
   "metadata": {},
   "source": [
    "Also, we can have this pH graph side by side with our SST and $CO_2$ plots:"
   ]
  },
  {
   "cell_type": "code",
   "execution_count": null,
   "metadata": {},
   "outputs": [],
   "source": [
    "# pHvsYear <- pHvsYear + labs(title = \"Ocean pH\")\n",
    "\n",
    "options(repr.plot.width = 23, repr.plot.height = 7)\n",
    "modern_sideBYside <- suppressWarnings(plot_grid(pHvsYear, ML_CO2vsYear_wTrend, newSSTvsYear, nrow = 1, ncol = 3))\n",
    "modern_sideBYside"
   ]
  },
  {
   "cell_type": "markdown",
   "metadata": {},
   "source": [
    "***If we compare the pH and $CO_2$ over time what can you observe?***\n",
    "\n",
    "Answer in the cell below (like before):"
   ]
  },
  {
   "cell_type": "markdown",
   "metadata": {},
   "source": [
    "<span style='background:LightSkyBlue'> \n",
    "    Write your answer here.\n",
    "    \n",
    "</span>\n",
    "<p>&nbsp;</p>"
   ]
  },
  {
   "cell_type": "markdown",
   "metadata": {},
   "source": [
    "In modern times (as you can see in these plots), the pH of the oceans have decreased by 0.1 on the pH scale. That may not seem like much, but pH is not a direct comparison to the change in how acidic the oceans get. So, a change in pH of 0.1 makes the oceans about 30% more acidic - yikes!\n",
    "<p>&nbsp;</p>"
   ]
  },
  {
   "cell_type": "markdown",
   "metadata": {},
   "source": [
    "### Investigating Paleocene-Eocene Thermal Maximum (PETM) Carbon Dioxide and pH Values \n",
    "\n",
    "Now that we've seen some data from modern values for $CO_2$ and pH, let's look at values estimated for during the PETM. We'll be looking at data from a paper by [Gutjhar et al. (2017)](https://www.nature.com/articles/nature23646#Sec12)\n",
    "\n",
    "We'll first look at ${\\delta}^{13}C$ (said \"delta carbon 13\") which reflects the amount or ratio (${\\delta}$) of the heavy isotope (13) of the element Carbon (C). This value is recorded in rocks, meaning it can be preserved and measured to give insight into possible changes in atmospheric carbon dioxide levels from the past. However, ${\\delta}^{13}C$ isn't directly equal to $CO_2$. In fact, it's the reverse: more positive values of ${\\delta}^{13}C$ are associated with decreased levels of atmospheric $CO_2$ and  more negative values of ${\\delta}^{13}C$ are associated with increased levels of atmospheric $CO_2$. Keeping this in mind, let's plot the ${\\delta}^{13}C$ for the PETM and see what it looks like.\n",
    "\n",
    "Let's first load PETM data for ${\\delta}^{13}C$. "
   ]
  },
  {
   "cell_type": "code",
   "execution_count": null,
   "metadata": {},
   "outputs": [],
   "source": [
    "PETM_d13C_data <- #we are making a new data set called \"PETM_d13C_data\" \n",
    "  read_excel(\"data/gutjhar_data_d13C.xlsx\") #we are reading in the excel file with our data (which is in the data folder)"
   ]
  },
  {
   "cell_type": "markdown",
   "metadata": {},
   "source": [
    "Plot the ${\\delta}^{13}C$ data compared to age:"
   ]
  },
  {
   "cell_type": "code",
   "execution_count": null,
   "metadata": {},
   "outputs": [],
   "source": [
    "d13CvsAge <-\n",
    "ggplot(PETM_d13C_data, aes(x = Age, y = d13C)) + #we call the function ggplot to input our data set and assign x and y variables\n",
    "geom_vline(xintercept = 0, linetype = \"dashed\", color = \"maroon\") + #this line of code plots the red dashed line at our 0 Age value\n",
    "geom_line()+ #we define a black line to represent the data\n",
    "labs(y=expression(delta^13*C~\"(\\u2030 PDB)\"), x = \"Age relative to CIE event (kyr)\", title = expression(delta^13*C~\"(\\u2030, PDB) throughout the PETM from Gutjhar et al. (2017)\" )) #We give our graph labels\n",
    "\n",
    "options(repr.plot.width = 12, repr.plot.height = 9)\n",
    "d13CvsAge"
   ]
  },
  {
   "cell_type": "markdown",
   "metadata": {},
   "source": [
    "<p>&nbsp;</p>\n",
    "If you notice the axes of this plot, the y-axis is ${\\delta}^{13}C$ and the x-axis is titled \"Age relative to CIE event (kyr)\". The x-axis represents the age (negative values) or after (positive values) the Carbon Isotope Excursion (CIE) event in thousands of years (kyr). The Carbon Isotope Excursion event just refers to the BIG CHANGE in the ${\\delta}^{13}C$ values that are recorded in these rocks and is now a sort of signature that marks the PETM in rocks all over the world. So, this plot shows values of ${\\delta}^{13}C$ relative to thousands of years before or after that CIE event (where the Age is equal to 0).\n",
    "<p>&nbsp;</p>\n",
    "\n",
    "***About how many thousands of years does it take for the big Carbon Isotope Excursion (CIE) event to occur? Is this change ${\\delta}^{13}C$ recording an increase or a decrease in the level of atmospheric carbon dioxide during this time?***\n",
    "\n",
    "Answer in the cell below: "
   ]
  },
  {
   "cell_type": "markdown",
   "metadata": {},
   "source": [
    "<span style='background:LightSkyBlue'> \n",
    "    Write your answer here.\n",
    "    \n",
    "</span>\n",
    "<p>&nbsp;</p>"
   ]
  },
  {
   "cell_type": "markdown",
   "metadata": {},
   "source": [
    "Now we'll load and plot PETM data for estimated pH: "
   ]
  },
  {
   "cell_type": "code",
   "execution_count": null,
   "metadata": {},
   "outputs": [],
   "source": [
    "#load PETM pH data\n",
    "PETM_pH_data <- #we are making a new data set called \"PETM_pH_data\" for the pH data set\n",
    "  read_excel(\"data/gutjhar_data_pH.xlsx\") #we are reading in the excel file with our data (which is in the data folder)\n",
    "\n",
    "#Plot PETM pH data\n",
    "pHvsAge <- #We create a new plot that's named \"pHvsAge\"\n",
    "ggplot(PETM_pH_data, aes(x = Age, y = pH)) + #we call the function ggplot to input our data set and assign x and y variables\n",
    "geom_vline(xintercept = 0, linetype = \"dashed\", color = \"maroon\") + #this line of code plots the red dashed line at our 0 Age value\n",
    "geom_line(size = 0.5, color = 'black') + #we define a black line to represent the data\n",
    "geom_ribbon(aes(ymin = SDmin, ymax = SDmax), linetype = 2, alpha = 0.3) + #this line of code adds the shaded error (max and min values) in the estimated pH values\n",
    "labs(y = \"pH\", x = \"Age relative to CIE event (kyr)\", title = \"Estimated pH throughout the PETM from Gutjhar et al. (2017) \")+ #we include axis labels and a title for the plot\n",
    "theme_bw() #this makes the theme of the plot \"black and white\"\n",
    "\n",
    "options(repr.plot.width = 12, repr.plot.height = 9)\n",
    "pHvsAge #prints out our plot"
   ]
  },
  {
   "cell_type": "markdown",
   "metadata": {},
   "source": [
    "\n",
    "***What is the estimated change in the pH for the PETM based on the plot above?***\n",
    "\n",
    "Answer in the cell below: "
   ]
  },
  {
   "cell_type": "markdown",
   "metadata": {},
   "source": [
    "<span style='background:LightSkyBlue'> \n",
    "    Write your answer here.\n",
    "    \n",
    "</span>\n",
    "<p>&nbsp;</p>"
   ]
  },
  {
   "cell_type": "code",
   "execution_count": null,
   "metadata": {},
   "outputs": [],
   "source": [
    "#PETM d13C vs pH\n",
    "\n",
    "options(repr.plot.width = 20, repr.plot.height = 8)\n",
    "PETM_d13CvspH <- plot_grid(d13CvsAge, pHvsAge, ncol = 2, nrow = 1) #here we're making a new plot with a special function called \"plot_grid\" that plots two existing plots next to each other\n",
    "PETM_d13CvspH #prints out the plot\n"
   ]
  },
  {
   "cell_type": "markdown",
   "metadata": {},
   "source": [
    "\n",
    "***Do you see a relationship between ${\\delta}^{13}C$ and pH? If so, why?***\n",
    "\n",
    "Answer in the cell below: "
   ]
  },
  {
   "cell_type": "markdown",
   "metadata": {},
   "source": [
    "<span style='background:LightSkyBlue'> \n",
    "    Write your answer here.\n",
    "    \n",
    "</span>\n",
    "<p>&nbsp;</p>"
   ]
  },
  {
   "cell_type": "markdown",
   "metadata": {},
   "source": [
    "***Based on the plots, how many thousands of years does it take for the values to return to what they were prior to the PETM (or CIE event)?***\n",
    "\n",
    "Answer in the cell below: "
   ]
  },
  {
   "cell_type": "markdown",
   "metadata": {},
   "source": [
    "<span style='background:LightSkyBlue'> \n",
    "    Write your answer here.\n",
    "    \n",
    "</span>\n",
    "<p>&nbsp;</p>"
   ]
  },
  {
   "cell_type": "markdown",
   "metadata": {},
   "source": [
    "If we compare the PETM pH data with the modern pH data:"
   ]
  },
  {
   "cell_type": "code",
   "execution_count": null,
   "metadata": {},
   "outputs": [],
   "source": [
    "options(repr.plot.width = 20, repr.plot.height = 8)\n",
    "PETM_vs_modern <- plot_grid(pHvsAge, pHvsYear, ncol = 2, nrow = 1)\n",
    "PETM_vs_modern"
   ]
  },
  {
   "cell_type": "markdown",
   "metadata": {},
   "source": [
    "Just like we see in the modern pH plot, there was a decrease in estimated ocean pH during the PETM as well.\n",
    "<p>&nbsp;</p>"
   ]
  },
  {
   "cell_type": "markdown",
   "metadata": {},
   "source": [
    "## Conclusion\n",
    "\n",
    "Through the lesson, we highlighted the relationship between ocean acidity, temperature, and $CO_2$. Although we are going through unprecedented changes in modern times, in terms of these subjects, we showed that the geologic record can still hold valuable lessons in regards to the effects of massive ocean acidification. It is of utmost importance that we mitigate the current anthropogenic contribution to these ocean acidification issues, since we have evidence from the PETM on how these environmental disruptions can cause great damage to our biosphere.\n",
    "\n",
    "<p>&nbsp;</p>"
   ]
  },
  {
   "cell_type": "markdown",
   "metadata": {},
   "source": [
    "## Sources: \n",
    "\n",
    "- McInerney, F. A., & Wing, S. L. (2011). The Paleocene-Eocene Thermal Maximum: a perturbation of carbon cycle, climate, and biosphere with implications for the future. Annual Review of Earth and Planetary Sciences, 39, 489-516.\n",
    "- NOAA Global Monitoring Laboratory, Mauna Loa\n",
    "- NOAA Extended Reconstructed Sea Surface Temperature (ERSST)\n",
    "- PETM data modified from Stokke, E. W., Jones, M. T., Tierney, J. E., Svensen, H. H., & Whiteside, J. H. (2020). Temperature changes across the Paleocene-Eocene Thermal Maximum–a new high-resolution TEX86 temperature record from the Eastern North Sea Basin. Earth and Planetary Science Letters, 544, 116388.\n",
    "-  Pacific ocean acidification data modified from Dore, J., Lukas, R., Sadler, D.W., Church, M.J., and Karl, D.M. (2009). Physical and biogeochemical modulation of ocean acidification in the central North Pacific. Proc. Natl. Acad. Sci. USA 106:12235–12240.\n",
    "- \"Earth in the Future\" course at [Penn State](https://www.e-education.psu.edu/earth103/node/639)\n"
   ]
  },
  {
   "cell_type": "code",
   "execution_count": null,
   "metadata": {},
   "outputs": [],
   "source": []
  },
  {
   "cell_type": "code",
   "execution_count": null,
   "metadata": {},
   "outputs": [],
   "source": []
  },
  {
   "cell_type": "code",
   "execution_count": null,
   "metadata": {},
   "outputs": [],
   "source": []
  },
  {
   "cell_type": "code",
   "execution_count": null,
   "metadata": {},
   "outputs": [],
   "source": []
  }
 ],
 "metadata": {
  "kernelspec": {
   "display_name": "R",
   "language": "R",
   "name": "ir"
  },
  "language_info": {
   "codemirror_mode": "r",
   "file_extension": ".r",
   "mimetype": "text/x-r-source",
   "name": "R",
   "pygments_lexer": "r",
   "version": "4.0.2"
  }
 },
 "nbformat": 4,
 "nbformat_minor": 4
}
