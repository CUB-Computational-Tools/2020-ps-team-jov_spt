{
 "cells": [
  {
   "cell_type": "markdown",
   "metadata": {},
   "source": [
    "<div style=\"background: #efffed;\n",
    "            border: 1px solid grey;\n",
    "            margin: 8px 0 8px 0;\n",
    "            text-align: center;\n",
    "            padding: 8px; \">\n",
    "    <i class=\"fa-play fa\" \n",
    "       style=\"font-size: 40px;\n",
    "              line-height: 40px;\n",
    "              margin: 8px;\n",
    "              color: #444;\">\n",
    "    </i>\n",
    "    <center>\n",
    "    Click into a code cell (the gray blocks below) to select or edit it.<br/>\n",
    "    To run a selected code cell, hit <pre style=\"background: #efffed\">Shift + Enter</pre>\n",
    "    Make sure that each code cell runs successfully before you move on to the next one.\n",
    "    </center>\n",
    "</div>"
   ]
  },
  {
   "cell_type": "markdown",
   "metadata": {},
   "source": [
    "\n",
    "# ***Ocean Acidification - Part 2***\n"
   ]
  },
  {
   "cell_type": "markdown",
   "metadata": {},
   "source": [
    "## Introduction"
   ]
  },
  {
   "cell_type": "markdown",
   "metadata": {},
   "source": [
    "### Paleocene-Eocene Thermal Maximum\n",
    "The **Paleocene-Eocene Thermal Maximum** (PETM) is an example, from the geologic record, of a moment where large quantities of carbon dioxide were released into the atmosphere. The PETM happened around 55 million years ago (about 10 million years after a big meteorite impact made the dinosaurs go extinct). The PETM was first recognized after deep ocean bedrock cores recorded a big change in the carbon isotope values around this time (known as a **C**arbon **I**sotope **E**xcursion or **CIE**) that are associated with the earth warming around 4-5°C (for perspective, modern warming since the industrial revolution has been around 1°C). Over time, scientists have concluded that this time period (over a few thousand years) experienced high levels of atmospheric carbon dioxide and increased temperatures in the ocean and on land (McInerney & Wing, 2011). Moreover, the PETM triggered mass extinctions of deep-sea organisms, showing that these drastic changes in carbon dioxide, pH, and temperatures could also impact the biosphere."
   ]
  },
  {
   "cell_type": "markdown",
   "metadata": {},
   "source": [
    "### Loading data from Part 1 of the lesson\n",
    "Before you work on the PETM data you'll have to run the code found in this section of the Jupyter Notebook. This is so you can load the necessary R packages for the code in this notebook to work and compare the modern data you examined in part 1 of the lesson with the data from the PETM (part 2). \n",
    "<p>&nbsp;</p>"
   ]
  },
  {
   "cell_type": "code",
   "execution_count": null,
   "metadata": {},
   "outputs": [],
   "source": [
    "library(tidyverse)\n",
    "library(readxl)\n",
    "library(cowplot)\n",
    "library(ggplot2)#\n",
    "\n",
    "theme_set(theme_bw() + theme(text = element_text(size = 18))) #Sets theme for every plot in this notebook as black and white. "
   ]
  },
  {
   "cell_type": "code",
   "execution_count": null,
   "metadata": {},
   "outputs": [],
   "source": [
    "pacific_pH <- read_excel(\"data/epa_ph.xlsx\") "
   ]
  },
  {
   "cell_type": "code",
   "execution_count": null,
   "metadata": {},
   "outputs": [],
   "source": [
    "# Making the modern ocean pH vs. time plot \n",
    "pHvsYear <- #We create a new plot stored in \"pHvsYear\"\n",
    "ggplot() + #we call the function ggplot to input our data set and assign x and y variables\n",
    "geom_line(data = pacific_pH, aes(x = Hawaii_Year, y = Hawaii_pH), size = 0.5, color = 'black') + #We define a black line to connect our data points \n",
    "labs(y = \"pH\", x = \"Year\", title = \"Change in ocean pH over time\") #We give our graph labels and a title"
   ]
  },
  {
   "cell_type": "markdown",
   "metadata": {},
   "source": [
    "## Investigating Paleocene-Eocene Thermal Maximum (PETM) Carbon Dioxide and pH Values \n",
    "\n",
    "Now that we've seen some data from modern values for $CO_2$ and pH (in part 1), let's look at values estimated for during the PETM. We'll be looking at data from a paper by [Gutjhar et al. (2017).](https://www.nature.com/articles/nature23646#Sec12)\n",
    "\n",
    "We'll first look at ${\\delta}^{13}C$ (said \"delta carbon 13\") which reflects the amount or ratio (${\\delta}$) of the heavy isotope (13) of the element Carbon (C). This value is recorded in rocks, meaning it can be preserved and measured to give insight into possible changes in atmospheric carbon dioxide levels from the past. However, ${\\delta}^{13}C$ isn't directly equal to $CO_2$. In fact, it's the reverse: more positive values of ${\\delta}^{13}C$ are associated with decreased levels of atmospheric $CO_2$ and  more negative values of ${\\delta}^{13}C$ are associated with increased levels of atmospheric $CO_2$. Keeping this in mind, let's plot the ${\\delta}^{13}C$ for the PETM and see what it looks like.\n",
    "\n",
    "Let's first load PETM data for ${\\delta}^{13}C$. "
   ]
  },
  {
   "cell_type": "code",
   "execution_count": null,
   "metadata": {},
   "outputs": [],
   "source": [
    "PETM_d13C_data <- #we are making a new data set called \"PETM_d13C_data\" \n",
    "  read_excel(\"data/gutjhar_data_d13C.xlsx\") #we are reading in the excel file with our data (which is in the data folder)"
   ]
  },
  {
   "cell_type": "markdown",
   "metadata": {},
   "source": [
    "Plot the ${\\delta}^{13}C$ data compared to age:"
   ]
  },
  {
   "cell_type": "code",
   "execution_count": null,
   "metadata": {},
   "outputs": [],
   "source": [
    "d13CvsAge <-\n",
    "ggplot(PETM_d13C_data, aes(x = Age, y = d13C)) + #we call the function ggplot to input our data set and assign x and y variables\n",
    "geom_vline(xintercept = 0, linetype = \"dashed\", color = \"maroon\") + #this line of code plots the red dashed line at our 0 Age value\n",
    "geom_line()+ #we define a black line to represent the data\n",
    "labs(y=expression(delta^13*C~\"(\\u2030 PDB)\"), x = \"Age relative to CIE event (kyr)\", title = expression(delta^13*C~\"(\\u2030, PDB) throughout the PETM from Gutjhar et al. (2017)\" )) #We give our graph labels\n",
    "\n",
    "options(repr.plot.width = 12, repr.plot.height = 9)\n",
    "d13CvsAge"
   ]
  },
  {
   "cell_type": "markdown",
   "metadata": {},
   "source": [
    "<p>&nbsp;</p>\n",
    "If you notice the axes of this plot, the y-axis is ${\\delta}^{13}C$ and the x-axis is titled \"Age relative to CIE event (kyr)\". The x-axis represents the age before (negative values) or after (positive values) the Carbon Isotope Excursion (CIE) event in thousands of years (kyr). The Carbon Isotope Excursion event just refers to the BIG CHANGE in the ${\\delta}^{13}C$ values that are recorded in these rocks and is now a sort of signature that marks the PETM in rocks all over the world. So, this plot shows values of ${\\delta}^{13}C$ relative to thousands of years before or after that CIE event (where the Age is equal to 0).\n",
    "<p>&nbsp;</p>\n",
    "\n",
    "***About how many thousands of years does it take for the big Carbon Isotope Excursion (CIE) event to occur? Is this change ${\\delta}^{13}C$ recording an increase or a decrease in the level of atmospheric carbon dioxide during this time?***\n",
    "\n",
    "Answer in the cell below: "
   ]
  },
  {
   "cell_type": "markdown",
   "metadata": {},
   "source": [
    "<span style='background:LightSkyBlue'> \n",
    "    Write your answer here.\n",
    "    \n",
    "</span>\n",
    "<p>&nbsp;</p>"
   ]
  },
  {
   "cell_type": "markdown",
   "metadata": {},
   "source": [
    "Now we'll load and plot PETM data for estimated pH: "
   ]
  },
  {
   "cell_type": "code",
   "execution_count": null,
   "metadata": {},
   "outputs": [],
   "source": [
    "#load PETM pH data\n",
    "PETM_pH_data <- #we are making a new data set called \"PETM_pH_data\" for the pH data set\n",
    "  read_excel(\"data/gutjhar_data_pH.xlsx\") #we are reading in the excel file with our data (which is in the data folder)\n",
    "\n",
    "#Plot PETM pH data\n",
    "pHvsAge <- #We create a new plot that's named \"pHvsAge\"\n",
    "ggplot(PETM_pH_data, aes(x = Age, y = pH)) + #we call the function ggplot to input our data set and assign x and y variables\n",
    "geom_vline(xintercept = 0, linetype = \"dashed\", color = \"maroon\") + #this line of code plots the red dashed line at our 0 Age value\n",
    "geom_line(size = 0.5, color = 'black') + #we define a black line to represent the data\n",
    "geom_ribbon(aes(ymin = SDmin, ymax = SDmax), linetype = 2, alpha = 0.3) + #this line of code adds the shaded error (max and min values) in the estimated pH values\n",
    "labs(y = \"pH\", x = \"Age relative to CIE event (kyr)\", title = \"Estimated pH throughout the PETM from Gutjhar et al. (2017) \") #we include axis labels and a title for the plot\n",
    "\n",
    "options(repr.plot.width = 12, repr.plot.height = 9)\n",
    "pHvsAge #prints out our plot"
   ]
  },
  {
   "cell_type": "markdown",
   "metadata": {},
   "source": [
    "\n",
    "***What is the estimated change in the pH for the PETM based on the plot above? Remember that even small pH changes can have massive effects on the acidity of the ocean!***\n",
    "\n",
    "Answer in the cell below: "
   ]
  },
  {
   "cell_type": "markdown",
   "metadata": {},
   "source": [
    "<span style='background:LightSkyBlue'> \n",
    "    Write your answer here.\n",
    "    \n",
    "</span>\n",
    "<p>&nbsp;</p>"
   ]
  },
  {
   "cell_type": "markdown",
   "metadata": {},
   "source": [
    "Like we mentioned in the background section, there was a relationship between pH and deep sea mass extinction during the PETM. Even if the change in pH you see here doesn't seem like much, it still severely impacted the biosphere. "
   ]
  },
  {
   "cell_type": "code",
   "execution_count": null,
   "metadata": {},
   "outputs": [],
   "source": [
    "#PETM d13C vs pH\n",
    "options(repr.plot.width = 20, repr.plot.height = 8)\n",
    "PETM_d13CvspH <- plot_grid(d13CvsAge, pHvsAge, ncol = 2, nrow = 1, scale = 0.98) #here we're making a new plot with a special function called \"plot_grid\" that plots two existing plots next to each other\n",
    "PETM_d13CvspH "
   ]
  },
  {
   "cell_type": "markdown",
   "metadata": {},
   "source": [
    "\n",
    "***Do you see a relationship between ${\\delta}^{13}C$ and pH? If so, why?***\n",
    "\n",
    "Answer in the cell below: "
   ]
  },
  {
   "cell_type": "markdown",
   "metadata": {},
   "source": [
    "<span style='background:LightSkyBlue'> \n",
    "    Write your answer here.\n",
    "    \n",
    "</span>\n",
    "<p>&nbsp;</p>"
   ]
  },
  {
   "cell_type": "markdown",
   "metadata": {},
   "source": [
    "***Based on the plots, how many thousands of years does it take for the values to return to what they were prior to the PETM (or CIE event)?***\n",
    "\n",
    "Answer in the cell below: "
   ]
  },
  {
   "cell_type": "markdown",
   "metadata": {},
   "source": [
    "<span style='background:LightSkyBlue'> \n",
    "    Write your answer here.\n",
    "    \n",
    "</span>\n",
    "<p>&nbsp;</p>"
   ]
  },
  {
   "cell_type": "markdown",
   "metadata": {},
   "source": [
    "If we compare the PETM pH data with the modern pH data:"
   ]
  },
  {
   "cell_type": "code",
   "execution_count": null,
   "metadata": {},
   "outputs": [],
   "source": [
    "options(repr.plot.width = 20, repr.plot.height = 8)\n",
    "newpHvsYear <- pHvsYear + labs(title = \"Change in modern ocean pH over time\") \n",
    "\n",
    "PETM_vs_modern <- plot_grid(pHvsAge, newpHvsYear, ncol = 2, nrow = 1, scale = 0.98)\n",
    "PETM_vs_modern"
   ]
  },
  {
   "cell_type": "markdown",
   "metadata": {},
   "source": [
    "Just like we see in the modern pH plot, there was a decrease in estimated ocean pH during the PETM as well (although it was in a different magnitude for both pH and year - look at the axes). If we have modern pH changes of greater magnitude than the ones of the PETM, there could be drastic consequences for the modern biosphere (similar or worse than the ones during the PETM).\n",
    "<p>&nbsp;</p>"
   ]
  },
  {
   "cell_type": "markdown",
   "metadata": {},
   "source": [
    "***Compare the PETM versus modern pH. What differences do you notice? (hint: look at the scale of the x- and y-axis).***\n",
    "\n",
    "Answer in the cell below: "
   ]
  },
  {
   "cell_type": "markdown",
   "metadata": {},
   "source": [
    "<span style='background:LightSkyBlue'> \n",
    "    Write your answer here.\n",
    "    \n",
    "</span>\n",
    "<p>&nbsp;</p>"
   ]
  },
  {
   "cell_type": "markdown",
   "metadata": {},
   "source": [
    "***Now that you’ve reached the end of this activity, what can you say about similarities and differences between changes in pH and $CO_2$ from the PETM versus modern values? What makes the PETM a good case study for modern climate change and what aspects make it hard to compare these two events?***\n",
    "\n",
    "Answer in the cell below: "
   ]
  },
  {
   "cell_type": "markdown",
   "metadata": {},
   "source": [
    "<span style='background:LightSkyBlue'> \n",
    "    Write your answer here.\n",
    "    \n",
    "</span>\n",
    "<p>&nbsp;</p>"
   ]
  },
  {
   "cell_type": "markdown",
   "metadata": {},
   "source": [
    "## Conclusion\n",
    "\n",
    "Through parts 1 and 2 of this lesson, we highlighted the relationship between ocean acidity, temperature, and $CO_2$. Although we are going through unprecedented changes in modern times, in terms of these subjects, we showed that the geologic record can still hold valuable lessons in regards to the effects of massive ocean acidification. It is of utmost importance that we mitigate the current anthropogenic contribution to these ocean acidification issues, since we have evidence from the PETM on how these environmental disruptions can cause great damage to our biosphere.\n",
    "\n",
    "<p>&nbsp;</p>"
   ]
  },
  {
   "cell_type": "markdown",
   "metadata": {},
   "source": [
    "## Sources \n",
    "\n",
    "- McInerney, F. A., & Wing, S. L. (2011). The Paleocene-Eocene Thermal Maximum: a perturbation of carbon cycle, climate, and biosphere with implications for the future. Annual Review of Earth and Planetary Sciences, 39, 489-516.\n",
    "- NOAA Global Monitoring Laboratory, Mauna Loa\n",
    "- NOAA Extended Reconstructed Sea Surface Temperature (ERSST)\n",
    "- PETM data modified from Stokke, E. W., Jones, M. T., Tierney, J. E., Svensen, H. H., & Whiteside, J. H. (2020). Temperature changes across the Paleocene-Eocene Thermal Maximum–a new high-resolution TEX86 temperature record from the Eastern North Sea Basin. Earth and Planetary Science Letters, 544, 116388.\n",
    "-  Pacific ocean acidification data modified from Dore, J., Lukas, R., Sadler, D.W., Church, M.J., and Karl, D.M. (2009). Physical and biogeochemical modulation of ocean acidification in the central North Pacific. Proc. Natl. Acad. Sci. USA 106:12235–12240.\n",
    "- \"Earth in the Future\" course at [Penn State](https://www.e-education.psu.edu/earth103/node/639)\n"
   ]
  }
 ],
 "metadata": {
  "kernelspec": {
   "display_name": "R",
   "language": "R",
   "name": "ir"
  },
  "language_info": {
   "codemirror_mode": "r",
   "file_extension": ".r",
   "mimetype": "text/x-r-source",
   "name": "R",
   "pygments_lexer": "r",
   "version": "4.0.2"
  }
 },
 "nbformat": 4,
 "nbformat_minor": 4
}
